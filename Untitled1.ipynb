{
 "cells": [
  {
   "cell_type": "code",
   "execution_count": 1,
   "metadata": {},
   "outputs": [],
   "source": [
    "import pandas as pd\n",
    "import numpy as np\n",
    "import matplotlib.pylab as plt\n",
    "%matplotlib inline\n",
    "from matplotlib.pylab import rcParams\n",
    "rcParams['figure.figsize'] = 200,100"
   ]
  },
  {
   "cell_type": "code",
   "execution_count": 2,
   "metadata": {},
   "outputs": [],
   "source": [
    "dateparse = lambda dates: pd.datetime.strptime(dates, '%d-%b-%y')\n",
    "data = pd.read_csv('Cleaner_data.csv',parse_dates=['Donation_Date'], index_col='Donation_Date',date_parser=dateparse)"
   ]
  },
  {
   "cell_type": "code",
   "execution_count": 3,
   "metadata": {},
   "outputs": [
    {
     "data": {
      "text/html": [
       "<div>\n",
       "<style scoped>\n",
       "    .dataframe tbody tr th:only-of-type {\n",
       "        vertical-align: middle;\n",
       "    }\n",
       "\n",
       "    .dataframe tbody tr th {\n",
       "        vertical-align: top;\n",
       "    }\n",
       "\n",
       "    .dataframe thead th {\n",
       "        text-align: right;\n",
       "    }\n",
       "</style>\n",
       "<table border=\"1\" class=\"dataframe\">\n",
       "  <thead>\n",
       "    <tr style=\"text-align: right;\">\n",
       "      <th></th>\n",
       "      <th>row ID</th>\n",
       "      <th>Financial_Year</th>\n",
       "      <th>Branch_Code</th>\n",
       "      <th>Sequence_1</th>\n",
       "      <th>Sequence_2</th>\n",
       "      <th>Donation_type</th>\n",
       "      <th>Donor_Age</th>\n",
       "      <th>Gender</th>\n",
       "      <th>Blood_Group_Code</th>\n",
       "      <th>Donor_Weight</th>\n",
       "      <th>Donor_Temperature</th>\n",
       "      <th>Donor_Pulse</th>\n",
       "      <th>Donor_Hemoglobin</th>\n",
       "      <th>Donor_Blood_Pressure</th>\n",
       "      <th>Test_1</th>\n",
       "      <th>C1</th>\n",
       "      <th>Test_2</th>\n",
       "      <th>C2</th>\n",
       "      <th>Test_3</th>\n",
       "      <th>Test_4</th>\n",
       "    </tr>\n",
       "    <tr>\n",
       "      <th>Donation_Date</th>\n",
       "      <th></th>\n",
       "      <th></th>\n",
       "      <th></th>\n",
       "      <th></th>\n",
       "      <th></th>\n",
       "      <th></th>\n",
       "      <th></th>\n",
       "      <th></th>\n",
       "      <th></th>\n",
       "      <th></th>\n",
       "      <th></th>\n",
       "      <th></th>\n",
       "      <th></th>\n",
       "      <th></th>\n",
       "      <th></th>\n",
       "      <th></th>\n",
       "      <th></th>\n",
       "      <th></th>\n",
       "      <th></th>\n",
       "      <th></th>\n",
       "    </tr>\n",
       "  </thead>\n",
       "  <tbody>\n",
       "    <tr>\n",
       "      <th>2013-07-01</th>\n",
       "      <td>1</td>\n",
       "      <td>14</td>\n",
       "      <td>BRC-01</td>\n",
       "      <td>345</td>\n",
       "      <td>1.0</td>\n",
       "      <td>R</td>\n",
       "      <td>24.0</td>\n",
       "      <td>M</td>\n",
       "      <td>5</td>\n",
       "      <td>56.0</td>\n",
       "      <td>37.0</td>\n",
       "      <td>72</td>\n",
       "      <td>13.0</td>\n",
       "      <td>120/80</td>\n",
       "      <td>0.121</td>\n",
       "      <td>N</td>\n",
       "      <td>0.224</td>\n",
       "      <td>N</td>\n",
       "      <td>R</td>\n",
       "      <td>N</td>\n",
       "    </tr>\n",
       "    <tr>\n",
       "      <th>2013-07-01</th>\n",
       "      <td>2</td>\n",
       "      <td>14</td>\n",
       "      <td>BRC-01</td>\n",
       "      <td>346</td>\n",
       "      <td>2.0</td>\n",
       "      <td>R</td>\n",
       "      <td>33.0</td>\n",
       "      <td>M</td>\n",
       "      <td>3</td>\n",
       "      <td>75.0</td>\n",
       "      <td>37.0</td>\n",
       "      <td>72</td>\n",
       "      <td>13.0</td>\n",
       "      <td>120/80</td>\n",
       "      <td>0.122</td>\n",
       "      <td>N</td>\n",
       "      <td>0.222</td>\n",
       "      <td>N</td>\n",
       "      <td>N</td>\n",
       "      <td>N</td>\n",
       "    </tr>\n",
       "    <tr>\n",
       "      <th>2013-07-01</th>\n",
       "      <td>3</td>\n",
       "      <td>14</td>\n",
       "      <td>BRC-01</td>\n",
       "      <td>347</td>\n",
       "      <td>3.0</td>\n",
       "      <td>R</td>\n",
       "      <td>28.0</td>\n",
       "      <td>M</td>\n",
       "      <td>5</td>\n",
       "      <td>65.0</td>\n",
       "      <td>37.0</td>\n",
       "      <td>72</td>\n",
       "      <td>13.0</td>\n",
       "      <td>120/80</td>\n",
       "      <td>0.123</td>\n",
       "      <td>N</td>\n",
       "      <td>0.221</td>\n",
       "      <td>N</td>\n",
       "      <td>N</td>\n",
       "      <td>N</td>\n",
       "    </tr>\n",
       "    <tr>\n",
       "      <th>2013-07-01</th>\n",
       "      <td>4</td>\n",
       "      <td>14</td>\n",
       "      <td>BRC-01</td>\n",
       "      <td>348</td>\n",
       "      <td>4.0</td>\n",
       "      <td>R</td>\n",
       "      <td>20.0</td>\n",
       "      <td>M</td>\n",
       "      <td>3</td>\n",
       "      <td>65.0</td>\n",
       "      <td>37.0</td>\n",
       "      <td>72</td>\n",
       "      <td>13.0</td>\n",
       "      <td>120/80</td>\n",
       "      <td>0.123</td>\n",
       "      <td>N</td>\n",
       "      <td>0.242</td>\n",
       "      <td>N</td>\n",
       "      <td>N</td>\n",
       "      <td>N</td>\n",
       "    </tr>\n",
       "    <tr>\n",
       "      <th>2013-07-01</th>\n",
       "      <td>5</td>\n",
       "      <td>14</td>\n",
       "      <td>BRC-01</td>\n",
       "      <td>349</td>\n",
       "      <td>5.0</td>\n",
       "      <td>T</td>\n",
       "      <td>22.0</td>\n",
       "      <td>M</td>\n",
       "      <td>7</td>\n",
       "      <td>75.0</td>\n",
       "      <td>37.0</td>\n",
       "      <td>72</td>\n",
       "      <td>13.0</td>\n",
       "      <td>120/80</td>\n",
       "      <td>0.124</td>\n",
       "      <td>N</td>\n",
       "      <td>0.243</td>\n",
       "      <td>N</td>\n",
       "      <td>N</td>\n",
       "      <td>N</td>\n",
       "    </tr>\n",
       "  </tbody>\n",
       "</table>\n",
       "</div>"
      ],
      "text/plain": [
       "               row ID  Financial_Year Branch_Code  Sequence_1  Sequence_2  \\\n",
       "Donation_Date                                                               \n",
       "2013-07-01          1              14      BRC-01         345         1.0   \n",
       "2013-07-01          2              14      BRC-01         346         2.0   \n",
       "2013-07-01          3              14      BRC-01         347         3.0   \n",
       "2013-07-01          4              14      BRC-01         348         4.0   \n",
       "2013-07-01          5              14      BRC-01         349         5.0   \n",
       "\n",
       "              Donation_type  Donor_Age Gender  Blood_Group_Code  Donor_Weight  \\\n",
       "Donation_Date                                                                   \n",
       "2013-07-01                R       24.0      M                 5          56.0   \n",
       "2013-07-01                R       33.0      M                 3          75.0   \n",
       "2013-07-01                R       28.0      M                 5          65.0   \n",
       "2013-07-01                R       20.0      M                 3          65.0   \n",
       "2013-07-01                T       22.0      M                 7          75.0   \n",
       "\n",
       "               Donor_Temperature  Donor_Pulse  Donor_Hemoglobin  \\\n",
       "Donation_Date                                                     \n",
       "2013-07-01                  37.0           72              13.0   \n",
       "2013-07-01                  37.0           72              13.0   \n",
       "2013-07-01                  37.0           72              13.0   \n",
       "2013-07-01                  37.0           72              13.0   \n",
       "2013-07-01                  37.0           72              13.0   \n",
       "\n",
       "              Donor_Blood_Pressure  Test_1 C1  Test_2 C2 Test_3 Test_4  \n",
       "Donation_Date                                                           \n",
       "2013-07-01                  120/80   0.121  N   0.224  N      R      N  \n",
       "2013-07-01                  120/80   0.122  N   0.222  N      N      N  \n",
       "2013-07-01                  120/80   0.123  N   0.221  N      N      N  \n",
       "2013-07-01                  120/80   0.123  N   0.242  N      N      N  \n",
       "2013-07-01                  120/80   0.124  N   0.243  N      N      N  "
      ]
     },
     "execution_count": 3,
     "metadata": {},
     "output_type": "execute_result"
    }
   ],
   "source": [
    "data.head()"
   ]
  },
  {
   "cell_type": "code",
   "execution_count": 4,
   "metadata": {},
   "outputs": [],
   "source": [
    "ts = data['Blood_Group_Code']"
   ]
  },
  {
   "cell_type": "code",
   "execution_count": 5,
   "metadata": {},
   "outputs": [
    {
     "data": {
      "text/plain": [
       "Donation_Date\n",
       "2013-07-01    5\n",
       "2013-07-01    3\n",
       "2013-07-01    5\n",
       "2013-07-01    3\n",
       "2013-07-01    7\n",
       "Name: Blood_Group_Code, dtype: int64"
      ]
     },
     "execution_count": 5,
     "metadata": {},
     "output_type": "execute_result"
    }
   ],
   "source": [
    "ts.head()"
   ]
  },
  {
   "cell_type": "code",
   "execution_count": 6,
   "metadata": {},
   "outputs": [
    {
     "name": "stderr",
     "output_type": "stream",
     "text": [
      "d:\\program files\\python\\lib\\site-packages\\pandas\\plotting\\_converter.py:129: FutureWarning: Using an implicitly registered datetime converter for a matplotlib plotting method. The converter was registered by pandas on import. Future versions of pandas will require you to explicitly register matplotlib converters.\n",
      "\n",
      "To register the converters:\n",
      "\t>>> from pandas.plotting import register_matplotlib_converters\n",
      "\t>>> register_matplotlib_converters()\n",
      "  warnings.warn(msg, FutureWarning)\n"
     ]
    },
    {
     "data": {
      "text/plain": [
       "[<matplotlib.lines.Line2D at 0x1fdb0ed7b70>]"
      ]
     },
     "execution_count": 6,
     "metadata": {},
     "output_type": "execute_result"
    },
    {
     "data": {
      "image/png": "[encoded data removed]",
      "text/plain": [
       "<Figure size 432x288 with 1 Axes>"
      ]
     },
     "metadata": {
      "needs_background": "light"
     },
     "output_type": "display_data"
    }
   ],
   "source": [
    "plt.plot(ts)"
   ]
  },
  {
   "cell_type": "code",
   "execution_count": 7,
   "metadata": {},
   "outputs": [],
   "source": [
    "ts = data['Donor_Weight']"
   ]
  },
  {
   "cell_type": "code",
   "execution_count": 8,
   "metadata": {},
   "outputs": [
    {
     "data": {
      "text/plain": [
       "[<matplotlib.lines.Line2D at 0x1fdaa5a0fd0>]"
      ]
     },
     "execution_count": 8,
     "metadata": {},
     "output_type": "execute_result"
    },
    {
     "data": {
      "image/png": "[encoded data removed]",
      "text/plain": [
       "<Figure size 432x288 with 1 Axes>"
      ]
     },
     "metadata": {
      "needs_background": "light"
     },
     "output_type": "display_data"
    }
   ],
   "source": [
    "plt.plot(ts)"
   ]
  },
  {
   "cell_type": "code",
   "execution_count": 9,
   "metadata": {},
   "outputs": [
    {
     "data": {
      "text/plain": [
       "[<matplotlib.lines.Line2D at 0x1fdaa8c2fd0>]"
      ]
     },
     "execution_count": 9,
     "metadata": {},
     "output_type": "execute_result"
    },
    {
     "data": {
      "image/png": "[encoded data removed]",
      "text/plain": [
       "<Figure size 432x288 with 1 Axes>"
      ]
     },
     "metadata": {
      "needs_background": "light"
     },
     "output_type": "display_data"
    }
   ],
   "source": [
    "plt.plot(ts)"
   ]
  },
  {
   "cell_type": "code",
   "execution_count": 10,
   "metadata": {},
   "outputs": [
    {
     "data": {
      "text/plain": [
       "<Figure size 1200x5280 with 0 Axes>"
      ]
     },
     "execution_count": 10,
     "metadata": {},
     "output_type": "execute_result"
    },
    {
     "data": {
      "text/plain": [
       "<Figure size 1200x5280 with 0 Axes>"
      ]
     },
     "metadata": {},
     "output_type": "display_data"
    }
   ],
   "source": [
    "from matplotlib.pyplot import figure\n",
    "figure(num=None, figsize=(15, 66), dpi=80, facecolor='w', edgecolor='k')"
   ]
  },
  {
   "cell_type": "code",
   "execution_count": 11,
   "metadata": {},
   "outputs": [
    {
     "data": {
      "text/plain": [
       "[<matplotlib.lines.Line2D at 0x1fdac971a20>]"
      ]
     },
     "execution_count": 11,
     "metadata": {},
     "output_type": "execute_result"
    },
    {
     "data": {
      "image/png": "[encoded data removed]",
      "text/plain": [
       "<Figure size 432x288 with 1 Axes>"
      ]
     },
     "metadata": {
      "needs_background": "light"
     },
     "output_type": "display_data"
    }
   ],
   "source": [
    "plt.plot(ts)"
   ]
  },
  {
   "cell_type": "code",
   "execution_count": 12,
   "metadata": {},
   "outputs": [
    {
     "data": {
      "text/plain": [
       "<Figure size 24000x18000 with 0 Axes>"
      ]
     },
     "execution_count": 12,
     "metadata": {},
     "output_type": "execute_result"
    },
    {
     "data": {
      "text/plain": [
       "<Figure size 24000x18000 with 0 Axes>"
      ]
     },
     "metadata": {},
     "output_type": "display_data"
    }
   ],
   "source": [
    "from matplotlib.pyplot import figure\n",
    "figure(num=None, figsize=(80, 60), dpi=300, facecolor='w', edgecolor='k')"
   ]
  },
  {
   "cell_type": "code",
   "execution_count": 13,
   "metadata": {},
   "outputs": [
    {
     "data": {
      "text/plain": [
       "[<matplotlib.lines.Line2D at 0x1fdac9d3710>]"
      ]
     },
     "execution_count": 13,
     "metadata": {},
     "output_type": "execute_result"
    },
    {
     "data": {
      "image/png": "[encoded data removed]",
      "text/plain": [
       "<Figure size 432x288 with 1 Axes>"
      ]
     },
     "metadata": {
      "needs_background": "light"
     },
     "output_type": "display_data"
    }
   ],
   "source": [
    "plt.plot(ts)"
   ]
  },
  {
   "cell_type": "code",
   "execution_count": 14,
   "metadata": {},
   "outputs": [
    {
     "ename": "NameError",
     "evalue": "name 'dates' is not defined",
     "output_type": "error",
     "traceback": [
      "\u001b[1;31m---------------------------------------------------------------------------\u001b[0m",
      "\u001b[1;31mNameError\u001b[0m                                 Traceback (most recent call last)",
      "\u001b[1;32m<ipython-input-14-f5705eb93526>\u001b[0m in \u001b[0;36m<module>\u001b[1;34m\u001b[0m\n\u001b[1;32m----> 1\u001b[1;33m \u001b[0mdates\u001b[0m\u001b[1;33m.\u001b[0m\u001b[0mmonth\u001b[0m\u001b[1;33m\u001b[0m\u001b[1;33m\u001b[0m\u001b[0m\n\u001b[0m",
      "\u001b[1;31mNameError\u001b[0m: name 'dates' is not defined"
     ]
    }
   ],
   "source": [
    "dates.month"
   ]
  },
  {
   "cell_type": "code",
   "execution_count": 15,
   "metadata": {
    "scrolled": true
   },
   "outputs": [
    {
     "data": {
      "text/plain": [
       "[<matplotlib.lines.Line2D at 0x1fdaa8c2fd0>]"
      ]
     },
     "execution_count": 15,
     "metadata": {},
     "output_type": "execute_result"
    }
   ],
   "source": [
    "Out[9]"
   ]
  },
  {
   "cell_type": "code",
   "execution_count": null,
   "metadata": {},
   "outputs": [],
   "source": []
  }
 ],
 "metadata": {
  "kernelspec": {
   "display_name": "Python 3",
   "language": "python",
   "name": "python3"
  },
  "language_info": {
   "codemirror_mode": {
    "name": "ipython",
    "version": 3
   },
   "file_extension": ".py",
   "mimetype": "text/x-python",
   "name": "python",
   "nbconvert_exporter": "python",
   "pygments_lexer": "ipython3",
   "version": "3.7.2"
  }
 },
 "nbformat": 4,
 "nbformat_minor": 2
}
